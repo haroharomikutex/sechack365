{
  "nbformat": 4,
  "nbformat_minor": 0,
  "metadata": {
    "colab": {
      "name": "SecHack365 Nightchallenge.ipynb",
      "provenance": [],
      "collapsed_sections": [],
      "authorship_tag": "ABX9TyM90SFtVH0nCIOVv21UzVir"
    },
    "kernelspec": {
      "name": "python3",
      "display_name": "Python 3"
    },
    "language_info": {
      "name": "python"
    }
  },
  "cells": [
    {
      "cell_type": "code",
      "source": [
        "import socket\n",
        "import sys\n",
        "\n",
        "from numpy import byte\n",
        "\n",
        "send_ip=\"192.168.51.147\"\n",
        "\n",
        "cliesock = socket.socket(socket.AF_INET, socket.SOCK_STREAM)\n",
        "cliesock.connect((send_ip, 8080))\n",
        "\n",
        "s = socket.socket(socket.AF_INET, socket.SOCK_STREAM)\n",
        "s.bind((\"0.0.0.0\", 8080)) \n",
        "s.listen(5)\n",
        "\n",
        "\n",
        "\n",
        "\n",
        "while True:\n",
        "    if len(sys.argv)<2:\n",
        "        clientsocket, address = s.accept()\n",
        "        print(f\"Connection from {address} has been established!\")\n",
        "        data = clientsocket.recv(1024).decode(\"utf-8\")\n",
        "        print(data)\n",
        "        clientsocket.close()\n",
        "        I=int(data)+1\n",
        "    else:\n",
        "        I=1\n",
        "\n",
        "    def fizzbuzz(x):\n",
        "        if x%33==0:\n",
        "            print(\"SEC\")\n",
        "        elif x%13==0:\n",
        "            print(\"HACK\")\n",
        "        elif x%73==0:\n",
        "            print(\"365\")\n",
        "        else:\n",
        "            print(x)\n",
        "\n",
        "    fizzbuzz(I)\n",
        "    cliesock.send(str(I).encode(\"utf-8\"))\n",
        "\n"
      ],
      "metadata": {
        "colab": {
          "base_uri": "https://localhost:8080/",
          "height": 247
        },
        "id": "ZrNqdiKciRvh",
        "outputId": "aea2b859-848c-43ba-af22-6f90de8eddce"
      },
      "execution_count": 1,
      "outputs": [
        {
          "output_type": "error",
          "ename": "TimeoutError",
          "evalue": "ignored",
          "traceback": [
            "\u001b[0;31m---------------------------------------------------------------------------\u001b[0m",
            "\u001b[0;31mTimeoutError\u001b[0m                              Traceback (most recent call last)",
            "\u001b[0;32m<ipython-input-1-2920027edf28>\u001b[0m in \u001b[0;36m<module>\u001b[0;34m()\u001b[0m\n\u001b[1;32m      7\u001b[0m \u001b[0;34m\u001b[0m\u001b[0m\n\u001b[1;32m      8\u001b[0m \u001b[0mcliesock\u001b[0m \u001b[0;34m=\u001b[0m \u001b[0msocket\u001b[0m\u001b[0;34m.\u001b[0m\u001b[0msocket\u001b[0m\u001b[0;34m(\u001b[0m\u001b[0msocket\u001b[0m\u001b[0;34m.\u001b[0m\u001b[0mAF_INET\u001b[0m\u001b[0;34m,\u001b[0m \u001b[0msocket\u001b[0m\u001b[0;34m.\u001b[0m\u001b[0mSOCK_STREAM\u001b[0m\u001b[0;34m)\u001b[0m\u001b[0;34m\u001b[0m\u001b[0;34m\u001b[0m\u001b[0m\n\u001b[0;32m----> 9\u001b[0;31m \u001b[0mcliesock\u001b[0m\u001b[0;34m.\u001b[0m\u001b[0mconnect\u001b[0m\u001b[0;34m(\u001b[0m\u001b[0;34m(\u001b[0m\u001b[0msend_ip\u001b[0m\u001b[0;34m,\u001b[0m \u001b[0;36m8080\u001b[0m\u001b[0;34m)\u001b[0m\u001b[0;34m)\u001b[0m\u001b[0;34m\u001b[0m\u001b[0;34m\u001b[0m\u001b[0m\n\u001b[0m\u001b[1;32m     10\u001b[0m \u001b[0;34m\u001b[0m\u001b[0m\n\u001b[1;32m     11\u001b[0m \u001b[0ms\u001b[0m \u001b[0;34m=\u001b[0m \u001b[0msocket\u001b[0m\u001b[0;34m.\u001b[0m\u001b[0msocket\u001b[0m\u001b[0;34m(\u001b[0m\u001b[0msocket\u001b[0m\u001b[0;34m.\u001b[0m\u001b[0mAF_INET\u001b[0m\u001b[0;34m,\u001b[0m \u001b[0msocket\u001b[0m\u001b[0;34m.\u001b[0m\u001b[0mSOCK_STREAM\u001b[0m\u001b[0;34m)\u001b[0m\u001b[0;34m\u001b[0m\u001b[0;34m\u001b[0m\u001b[0m\n",
            "\u001b[0;31mTimeoutError\u001b[0m: [Errno 110] Connection timed out"
          ]
        }
      ]
    }
  ]
}